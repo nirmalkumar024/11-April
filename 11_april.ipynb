{
 "cells": [
  {
   "cell_type": "markdown",
   "id": "1441b903-b5a3-4ca6-977a-a53463c1126a",
   "metadata": {},
   "source": [
    "Q1. What is an ensemble technique in machine learning?"
   ]
  },
  {
   "cell_type": "markdown",
   "id": "09e767d9-aa6c-4549-935b-f3f27e4c3335",
   "metadata": {},
   "source": [
    "Ensemble methods are techniques that create multiple models and then combine them to produce improved results. Ensemble methods in machine learning usually produce more accurate solutions than a single model would."
   ]
  },
  {
   "cell_type": "markdown",
   "id": "9e7bf6d2-73d3-4e3f-9b09-125df7274540",
   "metadata": {},
   "source": [
    "Q2. Why are ensemble techniques used in machine learning?"
   ]
  },
  {
   "cell_type": "markdown",
   "id": "6571d486-18c2-4a4f-a307-992926e5f356",
   "metadata": {},
   "source": [
    "Ensemble techniques are one of the machine learning approaches for improving the model by combining several models. The main advantage of ensemble learning is to reduce the variance and bias factors. It helps to increase the accuracy of the model and reduces the variability of prediction."
   ]
  },
  {
   "cell_type": "markdown",
   "id": "39354c12-4ae8-48ef-84b1-9e218d63dafe",
   "metadata": {},
   "source": [
    "Q3. What is bagging?"
   ]
  },
  {
   "cell_type": "markdown",
   "id": "53ff2c3d-d018-4b65-9244-ff27a0fd84e9",
   "metadata": {},
   "source": [
    "Bagging, also known as bootstrap aggregation, is the ensemble learning method that is commonly used to reduce variance within a noisy dataset. In bagging, a random sample of data in a training set is selected with replacement—meaning that the individual data points can be chosen more than once."
   ]
  },
  {
   "cell_type": "markdown",
   "id": "ea795440-15f9-4ebb-b4ff-1c84db4063ea",
   "metadata": {},
   "source": [
    "Q4. What is boosting?"
   ]
  },
  {
   "cell_type": "markdown",
   "id": "696698bf-59d9-4126-b2ca-06736785aec0",
   "metadata": {},
   "source": [
    "Boosting is a method used in machine learning to reduce errors in predictive data analysis. Data scientists train machine learning software, called machine learning models, on labeled data to make guesses about unlabeled data."
   ]
  },
  {
   "cell_type": "markdown",
   "id": "91f5f8c2-2d89-42c0-82d3-ec7aed58c659",
   "metadata": {},
   "source": [
    "Q5. What are the benefits of using ensemble techniques?"
   ]
  },
  {
   "cell_type": "markdown",
   "id": "5cd84015-a9b0-4780-adad-f2172f1fdb93",
   "metadata": {},
   "source": [
    "Ensemble methods offer several advantages over single models, such as improved accuracy and performance, especially for complex and noisy problems. They can also reduce the risk of overfitting and underfitting by balancing the trade-off between bias and variance, and by using different subsets and features of the data."
   ]
  },
  {
   "cell_type": "markdown",
   "id": "b06ee695-d47d-4edc-bcd9-73186e70f1d6",
   "metadata": {},
   "source": [
    "Q6. Are ensemble techniques always better than individual models?"
   ]
  },
  {
   "cell_type": "markdown",
   "id": "c97de9e4-ebae-4b47-9c8f-5ae7526a5f94",
   "metadata": {},
   "source": [
    "There is no absolute guarantee a ensemble model performs better than an individual model, but if you build many of those, and your individual classifier is weak. Your overall performance should be better than an individual model."
   ]
  },
  {
   "cell_type": "markdown",
   "id": "d37efa77-c49a-4979-9b60-84ee08613282",
   "metadata": {},
   "source": [
    "Q7. How is the confidence interval calculated using bootstrap?"
   ]
  },
  {
   "cell_type": "markdown",
   "id": "4f4c449a-00eb-4300-b9e0-e4c47d78e7bb",
   "metadata": {},
   "source": [
    "The bootstrap is a method for estimating standard errors and computing confidence intervals. Bootstrapping started in 1970th by Bradley Efron; it has already existed for more than 40 years, so many different types and methods of bootstrapping were developed since then.\n",
    "\n",
    "Start with resampling with replacement from original data n times.\n",
    "For each bootstrap calculate mean x*.\n",
    "Compute δ* = x* − x for each bootstrap sample (x is mean of original data), sort them from smallest to biggest.\n",
    "Choose δ. 1 as the 90th percentile, δ."
   ]
  },
  {
   "cell_type": "markdown",
   "id": "65e5830c-8e03-4653-97f4-641e98be0a2f",
   "metadata": {},
   "source": [
    "Q8. How does bootstrap work and What are the steps involved in bootstrap?"
   ]
  }
 ],
 "metadata": {
  "kernelspec": {
   "display_name": "Python 3 (ipykernel)",
   "language": "python",
   "name": "python3"
  },
  "language_info": {
   "codemirror_mode": {
    "name": "ipython",
    "version": 3
   },
   "file_extension": ".py",
   "mimetype": "text/x-python",
   "name": "python",
   "nbconvert_exporter": "python",
   "pygments_lexer": "ipython3",
   "version": "3.10.8"
  }
 },
 "nbformat": 4,
 "nbformat_minor": 5
}
